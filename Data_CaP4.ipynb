{
 "cells": [
  {
   "cell_type": "markdown",
   "metadata": {},
   "source": [
    "### Парсинг HTML. XPath"
   ]
  },
  {
   "cell_type": "markdown",
   "metadata": {},
   "source": [
    "#### Задание 1.\n",
    "Написать приложение, которое собирает основные новости с сайтов news.mail.ru, lenta.ru, yandex.ru/news.\n",
    "Для парсинга использовать xpath. Структура данных должна содержать:\n",
    "название источника,\n",
    "наименование новости,\n",
    "ссылку на новость,\n",
    "дата публикации."
   ]
  },
  {
   "cell_type": "code",
   "execution_count": 1,
   "metadata": {},
   "outputs": [],
   "source": [
    "from pprint import pprint\n",
    "from lxml import html\n",
    "import requests as rq\n",
    "from pymongo import MongoClient\n",
    "from datetime import date"
   ]
  },
  {
   "cell_type": "code",
   "execution_count": 2,
   "metadata": {},
   "outputs": [],
   "source": [
    "header = {'User-Agent':'Mozilla/5.0 (Windows NT 10.0; Win64; x64) AppleWebKit/537.36 (KHTML, like Gecko) Chrome/81.0.4044.123 Safari/537.36',\n",
    "          'Accept':'*/*'}"
   ]
  },
  {
   "cell_type": "code",
   "execution_count": 3,
   "metadata": {},
   "outputs": [],
   "source": [
    "def news_from_yandex():\n",
    "\n",
    "    main_link_y = 'https://yandex.ru'\n",
    "    sub_link_y = '/news/'\n",
    "    \n",
    "    response_y = rq.get(main_link_y + sub_link_y, headers=header)\n",
    "    dom_y = html.fromstring(response_y.text)\n",
    "\n",
    "    news_y = []\n",
    "    \n",
    "    data_y = dom_y.xpath(\"//div[@class='stories-set stories-set_main_no stories-set_pos_11']//td[@class='stories-set__item']\")\n",
    "    \n",
    "    for d_y in data_y:\n",
    "        \n",
    "        item_y = {}\n",
    "        \n",
    "        source_y = d_y.xpath(\".//div[@class='story__date']/text()\")\n",
    "        name_y = d_y.xpath(\".//h2[@class='story__title']//text()\")\n",
    "        link_y = d_y.xpath(\".//h2[@class='story__title']//@href\")\n",
    "        date_y = source_y[0].split()[-1]\n",
    "\n",
    "        item_y['source'] = ''.join(source_y[0].split()[:-1]).replace('вчера', '').replace('в', '')\n",
    "        item_y['name'] = name_y[0].replace('\\xa0', ' ')\n",
    "        item_y['link'] = main_link_y + link_y[0]\n",
    "        item_y['date'] = f'{date.today()} {date_y}'\n",
    "        \n",
    "        news_y.append(item_y)\n",
    "        \n",
    "    return(news_y)"
   ]
  },
  {
   "cell_type": "code",
   "execution_count": 4,
   "metadata": {},
   "outputs": [
    {
     "data": {
      "text/plain": [
       "[{'source': 'Ferra',\n",
       "  'name': 'Робот-лаборант ускорит проведение исследований в тысячу раз',\n",
       "  'link': 'https://yandex.ru/news/story/Robot-laborant_uskorit_provedenie_issledovanij_v_tysyachu_raz--608ec68a6c9b12451880896191ca0cc8?lr=2&lang=ru&stid=qpo4&persistent_id=105071253&rubric=science&from=index',\n",
       "  'date': '2020-07-08 21:38'},\n",
       " {'source': 'Live24',\n",
       "  'name': 'Жир на животе провоцирует ускоряющие старение заболевания',\n",
       "  'link': 'https://yandex.ru/news/story/ZHir_na_zhivote_provociruet_uskoryayushhie_starenie_zabolevaniya--f01fdab8a6a8c019602955b103444fc9?lr=2&lang=ru&stid=hRFm4FZT4IldaOlf-ZM3&persistent_id=104932811&rubric=science&from=index',\n",
       "  'date': '2020-07-08 21:56'},\n",
       " {'source': 'Evo-rus.com',\n",
       "  'name': 'Разработан препарат, на клеточном уровне защищающий от радиации',\n",
       "  'link': 'https://yandex.ru/news/story/Razrabotan_preparat_na_kletochnom_urovne_zashhishhayushhij_ot_radiacii--7d3793c3548b32b6de0d084913376704?lr=2&lang=ru&stid=PfM5OPLWtDPaT1aHvO6w&persistent_id=104991740&rubric=science&from=index',\n",
       "  'date': '2020-07-08 21:38'},\n",
       " {'source': 'PlanetToday',\n",
       "  'name': 'Биологи хотят создать единый атлас живых существ на Земле',\n",
       "  'link': 'https://yandex.ru/news/story/Biologi_khotyat_sozdat_edinyj_atlas_zhivykh_sushhestv_na_Zemle--76d880752c528cec9e416a0ab4be243a?lr=2&lang=ru&stid=uJs_LFyDmDC3aP-0pwCm&persistent_id=104983989&rubric=science&from=index',\n",
       "  'date': '2020-07-08 20:38'},\n",
       " {'source': 'Evo-rus.com',\n",
       "  'name': 'В Сочи в окрестностях храма нашли средневековый сигнальный пункт',\n",
       "  'link': 'https://yandex.ru/news/story/V_Sochi_v_okrestnostyakh_khrama_nashli_srednevekovyj_signalnyj_punkt--045b00a5ccd40b6b7e4507da42641b1f?lr=2&lang=ru&stid=a_e44EVSP-wktlKpP9CE&persistent_id=105018368&rubric=science&from=index',\n",
       "  'date': '2020-07-08 21:48'}]"
      ]
     },
     "execution_count": 4,
     "metadata": {},
     "output_type": "execute_result"
    }
   ],
   "source": [
    "news_from_yandex()"
   ]
  },
  {
   "cell_type": "code",
   "execution_count": 5,
   "metadata": {},
   "outputs": [],
   "source": [
    "def news_from_lenta():\n",
    "    \n",
    "    main_link_l = 'https://lenta.ru'\n",
    "    \n",
    "    response_l = rq.get(main_link_l, headers=header)\n",
    "    dom_l = html.fromstring(response_l.text)\n",
    "\n",
    "    news_l = []\n",
    "    \n",
    "    data_l = dom_l.xpath(\"//section[@class='row b-top7-for-main js-top-seven']//div[@class='item']\")\n",
    "    \n",
    "    for d_l in data_l:\n",
    "        \n",
    "        item_l = {}\n",
    "        \n",
    "        source_l = 'Lenta.ru'\n",
    "        name_l = d_l.xpath(\".//a/text()\")\n",
    "        link_l = d_l.xpath(\".//a/@href\")\n",
    "        date_l = d_l.xpath(\".//time[@class='g-time']/text()\")\n",
    "\n",
    "        item_l['source'] = source_l\n",
    "        item_l['name'] = name_l[0].replace('\\xa0', ' ')\n",
    "        item_l['link'] = main_link_l + link_l[0]\n",
    "        item_l['date'] = f'{date.today()} {date_l[0]}'\n",
    "        \n",
    "        news_l.append(item_l)\n",
    "        \n",
    "    return(news_l)"
   ]
  },
  {
   "cell_type": "code",
   "execution_count": 6,
   "metadata": {},
   "outputs": [
    {
     "data": {
      "text/plain": [
       "[{'source': 'Lenta.ru',\n",
       "  'name': 'В Минздраве усомнились в отсутствии иммунитета у переболевших COVID-19',\n",
       "  'link': 'https://lenta.ru/news/2020/07/08/immune_covid/',\n",
       "  'date': '2020-07-08 22:15'},\n",
       " {'source': 'Lenta.ru',\n",
       "  'name': 'В российском регионе обнаружили примотанный скотчем к дереву труп мужчины',\n",
       "  'link': 'https://lenta.ru/news/2020/07/08/primotali/',\n",
       "  'date': '2020-07-08 22:05'},\n",
       " {'source': 'Lenta.ru',\n",
       "  'name': 'Стали известны сроки запуска Spotify в России',\n",
       "  'link': 'https://lenta.ru/news/2020/07/08/spotify/',\n",
       "  'date': '2020-07-08 21:59'},\n",
       " {'source': 'Lenta.ru',\n",
       "  'name': 'Модель с заболеванием кожи показала декольте и перелет в роскошном самолете',\n",
       "  'link': 'https://lenta.ru/news/2020/07/08/winnieair/',\n",
       "  'date': '2020-07-08 21:56'},\n",
       " {'source': 'Lenta.ru',\n",
       "  'name': '«Манчестер Сити» забил пять безответных мячей середняку АПЛ',\n",
       "  'link': 'https://lenta.ru/news/2020/07/08/mancityfootball/',\n",
       "  'date': '2020-07-08 21:54'},\n",
       " {'source': 'Lenta.ru',\n",
       "  'name': 'В России восстановился потребительский спрос',\n",
       "  'link': 'https://lenta.ru/news/2020/07/08/growth/',\n",
       "  'date': '2020-07-08 21:51'},\n",
       " {'source': 'Lenta.ru',\n",
       "  'name': 'В Республиканской партии наметился раскол',\n",
       "  'link': 'https://lenta.ru/news/2020/07/08/fear/',\n",
       "  'date': '2020-07-08 21:46'},\n",
       " {'source': 'Lenta.ru',\n",
       "  'name': 'Певец Дмитрий Колдун попал в больницу',\n",
       "  'link': 'https://lenta.ru/news/2020/07/08/koldun/',\n",
       "  'date': '2020-07-08 21:42'},\n",
       " {'source': 'Lenta.ru',\n",
       "  'name': 'Хоккеист Телегин утаил при разводе с Пелагеей квартиру за 30 миллионов рублей',\n",
       "  'link': 'https://lenta.ru/news/2020/07/08/telegin/',\n",
       "  'date': '2020-07-08 21:38'}]"
      ]
     },
     "execution_count": 6,
     "metadata": {},
     "output_type": "execute_result"
    }
   ],
   "source": [
    "news_from_lenta()"
   ]
  },
  {
   "cell_type": "code",
   "execution_count": 7,
   "metadata": {},
   "outputs": [],
   "source": [
    "def news_from_mail():\n",
    "    \n",
    "    main_link_m = 'https://news.mail.ru'\n",
    "    \n",
    "    response_m = rq.get(main_link_m, headers=header)\n",
    "    dom_m = html.fromstring(response_m.text)\n",
    "\n",
    "    news_m = []\n",
    "    \n",
    "    data_m = dom_m.xpath(\"//div[@class='block block_bg_primary block_separated_top link-hdr']//span[@class='list__text']\")\n",
    "    \n",
    "    for d_m in data_m:\n",
    "        \n",
    "        item_m = {}\n",
    "        \n",
    "        name_m = d_m.xpath(\".//span/text()\")\n",
    "        link_m = d_m.xpath(\"./a/@href\")\n",
    "        link_m = str(link_m[0])\n",
    "        \n",
    "        response_m_new = rq.get(link_m, headers=header)\n",
    "        dom_m_new = html.fromstring(response_m_new.text)\n",
    "        data_m_new = dom_m_new.xpath(\"//div[@class='breadcrumbs breadcrumbs_article js-ago-wrapper']\")\n",
    "        \n",
    "        for d_m_new in data_m_new:\n",
    "            source_m = d_m_new.xpath(\".//span[@class='link__text']/text()\")\n",
    "            date_m = d_m_new.xpath(\".//span[@class='note__text breadcrumbs__text js-ago']/text()\")\n",
    "\n",
    "        item_m['source'] = source_m[0].replace('\\xa0', ' ')\n",
    "        item_m['name'] = name_m[0].replace('\\xa0', ' ')\n",
    "        item_m['link'] = link_m\n",
    "        item_m['date'] = f'{date.today()} {date_m[0]}'.replace(' (мск)', '')\n",
    "        \n",
    "        news_m.append(item_m)\n",
    "        \n",
    "    return(news_m)"
   ]
  },
  {
   "cell_type": "code",
   "execution_count": 8,
   "metadata": {},
   "outputs": [
    {
     "data": {
      "text/plain": [
       "[{'source': 'Коммерсантъ',\n",
       "  'name': 'Дрозденко анонсировал изменения в «мусорной» реформе Ленобласти',\n",
       "  'link': 'https://news.mail.ru/economics/42495731/',\n",
       "  'date': '2020-07-08 15:16'},\n",
       " {'source': 'Piter.tv',\n",
       "  'name': 'На корону «Миссис Россия 2020» претендуют две петербурженки',\n",
       "  'link': 'https://news.mail.ru/society/42495677/',\n",
       "  'date': '2020-07-08 15:15'},\n",
       " {'source': 'Piter.tv',\n",
       "  'name': 'В Петербурге первую пятиэтажку расселят по программе реновации',\n",
       "  'link': 'https://news.mail.ru/economics/42500455/',\n",
       "  'date': '2020-07-08 21:22'},\n",
       " {'source': 'МК.RU Санкт-Петербург',\n",
       "  'name': '17 пар Петербурга получили медали «За любовь и верность»',\n",
       "  'link': 'https://news.mail.ru/society/42497191/',\n",
       "  'date': '2020-07-08 16:12'}]"
      ]
     },
     "execution_count": 8,
     "metadata": {},
     "output_type": "execute_result"
    }
   ],
   "source": [
    "news_from_mail()"
   ]
  },
  {
   "cell_type": "markdown",
   "metadata": {},
   "source": [
    "#### Задание 2.\n",
    "Сложить все новости в БД."
   ]
  },
  {
   "cell_type": "code",
   "execution_count": 9,
   "metadata": {},
   "outputs": [],
   "source": [
    "client = MongoClient('localhost',27017)\n",
    "db = client['news_db']\n",
    "news = db.news"
   ]
  },
  {
   "cell_type": "code",
   "execution_count": 10,
   "metadata": {},
   "outputs": [],
   "source": [
    "news_from_yandex = news_from_yandex()\n",
    "news_from_lenta = news_from_lenta()\n",
    "news_from_mail = news_from_mail()"
   ]
  },
  {
   "cell_type": "code",
   "execution_count": 11,
   "metadata": {},
   "outputs": [],
   "source": [
    "def add_news_to_db(news_from_yandex, news_from_lenta, news_from_mail):\n",
    "    \n",
    "    news.insert_many(news_from_yandex)\n",
    "    news.insert_many(news_from_lenta)\n",
    "    news.insert_many(news_from_mail)\n",
    "\n",
    "    return True"
   ]
  },
  {
   "cell_type": "code",
   "execution_count": 12,
   "metadata": {},
   "outputs": [
    {
     "data": {
      "text/plain": [
       "True"
      ]
     },
     "execution_count": 12,
     "metadata": {},
     "output_type": "execute_result"
    }
   ],
   "source": [
    "add_news_to_db(news_from_yandex, news_from_lenta, news_from_mail)"
   ]
  },
  {
   "cell_type": "code",
   "execution_count": null,
   "metadata": {},
   "outputs": [],
   "source": []
  }
 ],
 "metadata": {
  "kernelspec": {
   "display_name": "Python 3",
   "language": "python",
   "name": "python3"
  },
  "language_info": {
   "codemirror_mode": {
    "name": "ipython",
    "version": 3
   },
   "file_extension": ".py",
   "mimetype": "text/x-python",
   "name": "python",
   "nbconvert_exporter": "python",
   "pygments_lexer": "ipython3",
   "version": "3.7.6"
  }
 },
 "nbformat": 4,
 "nbformat_minor": 4
}
