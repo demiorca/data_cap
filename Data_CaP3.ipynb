{
 "cells": [
  {
   "cell_type": "markdown",
   "metadata": {},
   "source": [
    "### Системы управления базами данных MongoDB и SQLite в Python"
   ]
  },
  {
   "cell_type": "markdown",
   "metadata": {},
   "source": [
    "#### Задание 1. Развернуть у себя на компьютере/виртуальной машине/хостинге MongoDB и реализовать функцию, записывающую собранные вакансии в созданную БД (без датафрейма)"
   ]
  },
  {
   "cell_type": "code",
   "execution_count": 1,
   "metadata": {},
   "outputs": [],
   "source": [
    "from pymongo import MongoClient\n",
    "from pymongo import errors\n",
    "from pprint import pprint\n",
    "from bs4 import BeautifulSoup as bs\n",
    "import requests as rq\n",
    "import re"
   ]
  },
  {
   "cell_type": "code",
   "execution_count": 2,
   "metadata": {},
   "outputs": [],
   "source": [
    "client = MongoClient('localhost',27017)\n",
    "db = client['jobs_db']"
   ]
  },
  {
   "cell_type": "code",
   "execution_count": 3,
   "metadata": {},
   "outputs": [],
   "source": [
    "jobs = db.jobs"
   ]
  },
  {
   "cell_type": "markdown",
   "metadata": {},
   "source": [
    "#### HH"
   ]
  },
  {
   "cell_type": "code",
   "execution_count": 4,
   "metadata": {},
   "outputs": [],
   "source": [
    "main_link_hh = 'https://spb.hh.ru'\n",
    "header_hh = {'User-Agent':'Mozilla/5.0 (Windows NT 10.0; Win64; x64) AppleWebKit/537.36 (KHTML, like Gecko) Chrome/83.0.4103.109 Safari/537.36',\n",
    "          'Accept':'*/*'}\n",
    "params_hh = {'clusters':True,\n",
    "          'enable_snippets':True,\n",
    "          'text':'Data scientist',\n",
    "          'L_save_area':True,\n",
    "          'area':113,\n",
    "          'from':'cluster_area',\n",
    "          'showClusters':True}"
   ]
  },
  {
   "cell_type": "code",
   "execution_count": 5,
   "metadata": {},
   "outputs": [],
   "source": [
    "response_hh = rq.get(main_link_hh + '/search/vacancy', headers=header_hh, params=params_hh).text\n",
    "soup_hh = bs(response_hh, 'lxml')\n",
    "vacancy_block_hh = soup_hh.find('div',{'class':'vacancy-serp'})\n",
    "vacancy_list_hh = vacancy_block_hh.find_all('div',{'class':'vacancy-serp-item'})"
   ]
  },
  {
   "cell_type": "code",
   "execution_count": 6,
   "metadata": {},
   "outputs": [
    {
     "name": "stdout",
     "output_type": "stream",
     "text": [
      "['https://spb.hh.ru/search/vacancy?L_is_autosearch=false&area=113&clusters=true&enable_snippets=true&text=Data+scientist&page=1',\n",
      " 'https://spb.hh.ru/search/vacancy?L_is_autosearch=false&area=113&clusters=true&enable_snippets=true&text=Data+scientist&page=2',\n",
      " 'https://spb.hh.ru/search/vacancy?L_is_autosearch=false&area=113&clusters=true&enable_snippets=true&text=Data+scientist&page=3',\n",
      " 'https://spb.hh.ru/search/vacancy?L_is_autosearch=false&area=113&clusters=true&enable_snippets=true&text=Data+scientist&page=4',\n",
      " 'https://spb.hh.ru/search/vacancy?L_is_autosearch=false&area=113&clusters=true&enable_snippets=true&text=Data+scientist&page=5']\n"
     ]
    }
   ],
   "source": [
    "pages_hh = []\n",
    "while True:\n",
    "    if soup_hh.find('a',{'class':'bloko-button HH-Pager-Controls-Next HH-Pager-Control'}):\n",
    "        next_page_hh = main_link_hh + soup_hh.find('a',{'class':'bloko-button HH-Pager-Controls-Next HH-Pager-Control'})['href']\n",
    "    else:\n",
    "        break\n",
    "    pages_hh.append(next_page_hh)\n",
    "    response_hh = rq.get(next_page_hh, headers=header_hh).text\n",
    "    soup_hh = bs(response_hh, 'lxml')\n",
    "    vacancy_block_hh_ = soup_hh.find('div',{'class':'vacancy-serp'})\n",
    "    vacancy_list_hh_ = vacancy_block_hh_.find_all('div',{'class':'vacancy-serp-item'})\n",
    "pprint(pages_hh)"
   ]
  },
  {
   "cell_type": "code",
   "execution_count": 7,
   "metadata": {},
   "outputs": [],
   "source": [
    "jobs_hh = []"
   ]
  },
  {
   "cell_type": "code",
   "execution_count": 8,
   "metadata": {},
   "outputs": [],
   "source": [
    "# Функция добавления вакансий HH в базу данных\n",
    "\n",
    "def add_jobs_hh_to_db(jobs_hh):\n",
    "    \n",
    "    jobs.insert_many(jobs_hh)\n",
    "\n",
    "    return True"
   ]
  },
  {
   "cell_type": "code",
   "execution_count": 9,
   "metadata": {},
   "outputs": [],
   "source": [
    "for job_hh in vacancy_list_hh + vacancy_list_hh_:\n",
    "    \n",
    "    job_data_hh = {}\n",
    "    \n",
    "    job_name_hh = job_hh.find('div',{'class':'vacancy-serp-item__info'}).getText()\n",
    "    job_company_hh = job_hh.find('a',{'class':'bloko-link bloko-link_secondary'}).getText()\n",
    "    job_city_hh = job_hh.find('span',{'class':'vacancy-serp-item__meta-info'}).getText().split()[0].replace(',', '')\n",
    "      \n",
    "    # Зарплата HH:\n",
    "    job_salary_hh = job_hh.find('div',{'class':'vacancy-serp-item__sidebar'}).getText().replace('\\xa0', '')\n",
    "    min_salary_reg_hh = '^\\d*\\s\\d*|^[от]+\\s(\\d*\\s\\d*)'\n",
    "    max_salary_reg_hh = '-(\\d*\\s\\d*)|^[до]+\\s(\\d*\\s\\d*)'\n",
    "    currency_reg_hh = '([a-z]*)+$|([а-я]*)\\.+$'\n",
    "    min_salary_pattern_hh = re.compile(min_salary_reg_hh)\n",
    "    max_salary_pattern_hh = re.compile(max_salary_reg_hh)\n",
    "    currency_pattern_hh = re.compile(currency_reg_hh, re.I)\n",
    "    min_salary_hh = min_salary_pattern_hh.search(job_salary_hh)\n",
    "    max_salary_hh = max_salary_pattern_hh.search(job_salary_hh)\n",
    "    currency_hh = currency_pattern_hh.search(job_salary_hh)\n",
    "    if min_salary_hh:\n",
    "        min_salary_hh = min_salary_hh.group(0).replace('от', '').replace(' ', '')\n",
    "    if max_salary_hh:\n",
    "        max_salary_hh = max_salary_hh.group(0).replace('-', '').replace('до', '').replace(' ', '')\n",
    "    if currency_hh:\n",
    "        currency_hh = currency_hh.group(0).replace('.', '')\n",
    "    #\n",
    "    \n",
    "    # Ссылка и ID для HH:\n",
    "    job_link_hh = job_hh.find('a',{'class':'bloko-link HH-LinkModifier'})['href']\n",
    "    job_id_reg_hh = '(\\d+)'\n",
    "    job_id_pattern_hh = re.compile(job_id_reg_hh)\n",
    "    job_id_hh = job_id_pattern_hh.search(job_link_hh)\n",
    "    if job_id_hh:\n",
    "        job_id_hh = job_id_hh.group(0) + 'hh' \n",
    "    #\n",
    "    \n",
    "    job_data_hh['_id'] = job_id_hh\n",
    "    job_data_hh['name'] = job_name_hh\n",
    "    job_data_hh['company'] = job_company_hh\n",
    "    job_data_hh['city'] = job_city_hh\n",
    "    job_data_hh['min_salary'] = min_salary_hh\n",
    "    job_data_hh['max_salary'] = max_salary_hh\n",
    "    job_data_hh['currency'] = currency_hh\n",
    "    job_data_hh['link'] = job_link_hh\n",
    "    job_data_hh['from'] = main_link_hh\n",
    "        \n",
    "    jobs_hh.append(job_data_hh)"
   ]
  },
  {
   "cell_type": "code",
   "execution_count": 10,
   "metadata": {},
   "outputs": [
    {
     "data": {
      "text/plain": [
       "True"
      ]
     },
     "execution_count": 10,
     "metadata": {},
     "output_type": "execute_result"
    }
   ],
   "source": [
    "add_jobs_hh_to_db(jobs_hh)"
   ]
  },
  {
   "cell_type": "markdown",
   "metadata": {},
   "source": [
    "#### SuperJob"
   ]
  },
  {
   "cell_type": "code",
   "execution_count": 11,
   "metadata": {},
   "outputs": [],
   "source": [
    "main_link_sj = 'https://russia.superjob.ru'\n",
    "header_sj = {'User-Agent':'Mozilla/5.0 (Windows NT 10.0; Win64; x64) AppleWebKit/537.36 (KHTML, like Gecko) Chrome/83.0.4103.109 Safari/537.36',\n",
    "          'Accept':'*/*'}\n",
    "params_sj = {'keywords':'Data'}"
   ]
  },
  {
   "cell_type": "code",
   "execution_count": 12,
   "metadata": {},
   "outputs": [],
   "source": [
    "response_sj = rq.get(main_link_sj + '/vacancy/search', headers=header_sj, params=params_sj).text\n",
    "soup_sj = bs(response_sj, 'lxml')\n",
    "vacancy_block_sj = soup_sj.find('div',{'class':'_1ID8B'})\n",
    "vacancy_list_sj = vacancy_block_sj.find_all('div',{'class':'iJCa5 f-test-vacancy-item _1fma_ _1JhPh _2gFpt _1znz6 _2nteL'})"
   ]
  },
  {
   "cell_type": "code",
   "execution_count": 13,
   "metadata": {},
   "outputs": [
    {
     "name": "stdout",
     "output_type": "stream",
     "text": [
      "['https://russia.superjob.ru/vacancy/search/?keywords=Data&page=2',\n",
      " 'https://russia.superjob.ru/vacancy/search/?keywords=Data&page=3',\n",
      " 'https://russia.superjob.ru/vacancy/search/?keywords=Data&page=4']\n"
     ]
    }
   ],
   "source": [
    "pages_sj = []\n",
    "while True:\n",
    "    if soup_sj.find('a',{'class':'icMQ_ _1_Cht _3ze9n f-test-button-dalshe f-test-link-Dalshe'}):\n",
    "        next_page_sj = main_link_sj + soup_sj.find('a',{'class':'icMQ_ _1_Cht _3ze9n f-test-button-dalshe f-test-link-Dalshe'})['href']\n",
    "    else:\n",
    "        break\n",
    "    pages_sj.append(next_page_sj)\n",
    "    response_sj = rq.get(next_page_sj, headers=header_sj).text\n",
    "    soup_sj = bs(response_sj, 'lxml')\n",
    "    vacancy_block_sj_ = soup_sj.find('div',{'class':'_1ID8B'})\n",
    "    vacancy_list_sj_ = vacancy_block_sj_.find_all('div',{'class':'iJCa5 f-test-vacancy-item _1fma_ _1JhPh _2gFpt _1znz6 _2nteL'})\n",
    "pprint(pages_sj)"
   ]
  },
  {
   "cell_type": "code",
   "execution_count": 14,
   "metadata": {},
   "outputs": [],
   "source": [
    "jobs_sj = []"
   ]
  },
  {
   "cell_type": "code",
   "execution_count": 15,
   "metadata": {},
   "outputs": [],
   "source": [
    "# Функция добавления вакансий SJ в базу данных\n",
    "\n",
    "def add_jobs_sj_to_db(jobs_sj):\n",
    "    \n",
    "    jobs.insert_many(jobs_sj)\n",
    "\n",
    "    return True"
   ]
  },
  {
   "cell_type": "code",
   "execution_count": 16,
   "metadata": {},
   "outputs": [],
   "source": [
    "for job_sj in vacancy_list_sj + vacancy_list_sj_:\n",
    "    \n",
    "    job_data_sj = {}\n",
    "    \n",
    "    job_name_sj = job_sj.find('div',{'class':'_3mfro PlM3e _2JVkc _3LJqf'}).getText()\n",
    "    job_company_sj = job_sj.find('span',{'class':'_3mfro _3Fsn4 f-test-text-vacancy-item-company-name _9fXTd _2JVkc _2VHxz _15msI'}).getText()\n",
    "    job_city_sj = job_sj.find('span',{'class':'_3mfro f-test-text-company-item-location _9fXTd _2JVkc _2VHxz'}).getText().split()[-1]\n",
    "    \n",
    "    # Зарплата SJ:\n",
    "    job_salary_sj = job_sj.find('span',{'class':'_1OuF_ _1qw9T f-test-text-company-item-salary'}).getText().replace('\\xa0', '').replace('/месяц', '')\n",
    "    min_salary_reg_sj = '-(\\d*\\d*)|^[от]+(\\d*\\d*)'\n",
    "    max_salary_reg_sj = '-(\\d*\\d*)|^[до]+(\\d*\\d*)'\n",
    "    currency_reg_sj = '([a-z]*)+$|([а-я]*)\\.+$'\n",
    "    min_salary_pattern_sj = re.compile(min_salary_reg_sj)\n",
    "    max_salary_pattern_sj = re.compile(max_salary_reg_sj)\n",
    "    currency_pattern_sj = re.compile(currency_reg_sj, re.I)\n",
    "    min_salary_sj = min_salary_pattern_sj.search(job_salary_sj)\n",
    "    max_salary_sj = max_salary_pattern_sj.search(job_salary_sj)\n",
    "    currency_sj = currency_pattern_sj.search(job_salary_sj)\n",
    "    if min_salary_sj:\n",
    "        min_salary_sj = min_salary_sj.group(0).replace('от', '').replace('о', 'None').replace(' ', '')\n",
    "    if max_salary_sj:\n",
    "        max_salary_sj = max_salary_sj.group(0).replace('до', '').replace('о', 'None').replace(' ', '')\n",
    "    if currency_sj:\n",
    "        currency_sj = currency_sj.group(0).replace('.', '')\n",
    "    #\n",
    "    \n",
    "    # Ссылка и ID для SJ:\n",
    "    job_link_sj = main_link_sj + job_sj.find('a',{'class':'icMQ_'})['href']\n",
    "    job_id_reg_sj = '(\\d+\\.)'\n",
    "    job_id_pattern_sj = re.compile(job_id_reg_sj)\n",
    "    job_id_sj = job_id_pattern_sj.search(job_link_sj)\n",
    "    if job_id_sj:\n",
    "        job_id_sj = job_id_sj.group(0).replace('.', '') + 'sj'\n",
    "    #\n",
    "        \n",
    "    job_data_sj['_id'] = job_id_sj \n",
    "    job_data_sj['name'] = job_name_sj\n",
    "    job_data_sj['company'] = job_company_sj\n",
    "    job_data_sj['city'] = job_city_sj\n",
    "    job_data_sj['min_salary'] = min_salary_sj\n",
    "    job_data_sj['max_salary'] = max_salary_sj\n",
    "    job_data_sj['currency'] = currency_sj\n",
    "    job_data_sj['link'] = job_link_sj\n",
    "    job_data_sj['from'] = main_link_sj\n",
    "    \n",
    "    jobs_sj.append(job_data_sj)"
   ]
  },
  {
   "cell_type": "code",
   "execution_count": 17,
   "metadata": {},
   "outputs": [
    {
     "data": {
      "text/plain": [
       "True"
      ]
     },
     "execution_count": 17,
     "metadata": {},
     "output_type": "execute_result"
    }
   ],
   "source": [
    "add_jobs_sj_to_db(jobs_sj)"
   ]
  },
  {
   "cell_type": "markdown",
   "metadata": {},
   "source": [
    "#### Задание 2. Написать функцию, которая производит поиск и выводит на экран вакансии с заработной платой больше введенной суммы. Поиск по двум полям (мин и макс зарплату)"
   ]
  },
  {
   "cell_type": "code",
   "execution_count": 18,
   "metadata": {},
   "outputs": [],
   "source": [
    "def higher_salary(salary):\n",
    "    for job in jobs.find( {'$or': [ {'min_salary': {'$gt': salary}}, {'max_salary': {'$gt': salary}} ] } ):\n",
    "        pprint(job)"
   ]
  },
  {
   "cell_type": "code",
   "execution_count": 19,
   "metadata": {},
   "outputs": [
    {
     "name": "stdout",
     "output_type": "stream",
     "text": [
      "Введите уровень зарплаты: 41000\n",
      "{'_id': '37813468hh',\n",
      " 'city': 'Казань',\n",
      " 'company': ' Город Иннополис',\n",
      " 'currency': 'руб',\n",
      " 'from': 'https://spb.hh.ru',\n",
      " 'link': 'https://spb.hh.ru/vacancy/37813468?query=Data%20scientist',\n",
      " 'max_salary': None,\n",
      " 'min_salary': '70000',\n",
      " 'name': 'Data Scientist'}\n",
      "{'_id': '37622381hh',\n",
      " 'city': 'Москва',\n",
      " 'company': ' MAXIMUM EDUCATION',\n",
      " 'currency': 'руб',\n",
      " 'from': 'https://spb.hh.ru',\n",
      " 'link': 'https://spb.hh.ru/vacancy/37622381?query=Data%20scientist',\n",
      " 'max_salary': None,\n",
      " 'min_salary': '65000',\n",
      " 'name': 'IT Recruiter'}\n",
      "{'_id': '37469880hh',\n",
      " 'city': 'Томск',\n",
      " 'company': ' WiseTech',\n",
      " 'currency': 'руб',\n",
      " 'from': 'https://spb.hh.ru',\n",
      " 'link': 'https://spb.hh.ru/vacancy/37469880?query=Data%20scientist',\n",
      " 'max_salary': '70000',\n",
      " 'min_salary': None,\n",
      " 'name': 'Стажер data scientist в финтех компании'}\n",
      "{'_id': '34064156sj',\n",
      " 'city': 'Молодежная',\n",
      " 'company': '7ЦВЕТОВ и 7ЦВЕТОВ Декор',\n",
      " 'currency': 'руб',\n",
      " 'from': 'https://russia.superjob.ru',\n",
      " 'link': 'https://russia.superjob.ru/vakansii/programmist-34064156.html',\n",
      " 'max_salary': 'None',\n",
      " 'min_salary': '130000',\n",
      " 'name': 'Программист / Разработчик 1С'}\n"
     ]
    }
   ],
   "source": [
    "salary_input = input('Введите уровень зарплаты: ')\n",
    "higher_salary(salary_input)"
   ]
  },
  {
   "cell_type": "markdown",
   "metadata": {},
   "source": [
    "#### Задание 3. Написать функцию, которая будет добавлять в вашу базу данных только новые вакансии с сайта"
   ]
  },
  {
   "cell_type": "code",
   "execution_count": 20,
   "metadata": {},
   "outputs": [],
   "source": [
    "def add_new_jobs_hh_to_db(jobs_hh):\n",
    "    \n",
    "    for hh in jobs_hh:\n",
    "        try:\n",
    "            jobs.insert_one(hh)\n",
    "        except errors.DuplicateKeyError:\n",
    "            pass\n",
    "            return False # Если вакансия с HH уже есть\n",
    "        else:\n",
    "            return True # Если вакансии с HH не было"
   ]
  },
  {
   "cell_type": "code",
   "execution_count": 21,
   "metadata": {},
   "outputs": [],
   "source": [
    "def add_new_jobs_sj_to_db(jobs_sj):\n",
    "    \n",
    "    for sj in jobs_sj:\n",
    "        try:\n",
    "            jobs.insert_one(sj)\n",
    "        except errors.DuplicateKeyError:\n",
    "            pass\n",
    "            return False # Если вакансия с SJ уже есть\n",
    "        else:\n",
    "            return True # Если вакансии с SJ не было"
   ]
  },
  {
   "cell_type": "code",
   "execution_count": null,
   "metadata": {},
   "outputs": [],
   "source": []
  }
 ],
 "metadata": {
  "kernelspec": {
   "display_name": "Python 3",
   "language": "python",
   "name": "python3"
  },
  "language_info": {
   "codemirror_mode": {
    "name": "ipython",
    "version": 3
   },
   "file_extension": ".py",
   "mimetype": "text/x-python",
   "name": "python",
   "nbconvert_exporter": "python",
   "pygments_lexer": "ipython3",
   "version": "3.7.6"
  }
 },
 "nbformat": 4,
 "nbformat_minor": 4
}
