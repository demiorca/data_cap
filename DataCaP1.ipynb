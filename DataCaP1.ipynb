{
 "cells": [
  {
   "cell_type": "markdown",
   "metadata": {},
   "source": [
    "### Основы клиент-серверного взаимодействия. Парсинг API"
   ]
  },
  {
   "cell_type": "markdown",
   "metadata": {},
   "source": [
    "#### Задание 1. Посмотреть документацию к API GitHub, разобраться как вывести список репозиториев для конкретного пользователя, сохранить JSON-вывод в файле *.json."
   ]
  },
  {
   "cell_type": "code",
   "execution_count": 1,
   "metadata": {},
   "outputs": [],
   "source": [
    "import requests\n",
    "import json"
   ]
  },
  {
   "cell_type": "code",
   "execution_count": 2,
   "metadata": {},
   "outputs": [],
   "source": [
    "main_link_1 = 'https://api.github.com/users/demiorca/repos'"
   ]
  },
  {
   "cell_type": "code",
   "execution_count": 3,
   "metadata": {},
   "outputs": [],
   "source": [
    "response_1 = requests.get(main_link_1)"
   ]
  },
  {
   "cell_type": "code",
   "execution_count": 4,
   "metadata": {},
   "outputs": [
    {
     "data": {
      "text/plain": [
       "[{'id': 262905273,\n",
       "  'node_id': 'MDEwOlJlcG9zaXRvcnkyNjI5MDUyNzM=',\n",
       "  'name': 'python_for_datascience_1',\n",
       "  'full_name': 'demiorca/python_for_datascience_1',\n",
       "  'private': False,\n",
       "  'owner': {'login': 'demiorca',\n",
       "   'id': 46075643,\n",
       "   'node_id': 'MDQ6VXNlcjQ2MDc1NjQz',\n",
       "   'avatar_url': 'https://avatars1.githubusercontent.com/u/46075643?v=4',\n",
       "   'gravatar_id': '',\n",
       "   'url': 'https://api.github.com/users/demiorca',\n",
       "   'html_url': 'https://github.com/demiorca',\n",
       "   'followers_url': 'https://api.github.com/users/demiorca/followers',\n",
       "   'following_url': 'https://api.github.com/users/demiorca/following{/other_user}',\n",
       "   'gists_url': 'https://api.github.com/users/demiorca/gists{/gist_id}',\n",
       "   'starred_url': 'https://api.github.com/users/demiorca/starred{/owner}{/repo}',\n",
       "   'subscriptions_url': 'https://api.github.com/users/demiorca/subscriptions',\n",
       "   'organizations_url': 'https://api.github.com/users/demiorca/orgs',\n",
       "   'repos_url': 'https://api.github.com/users/demiorca/repos',\n",
       "   'events_url': 'https://api.github.com/users/demiorca/events{/privacy}',\n",
       "   'received_events_url': 'https://api.github.com/users/demiorca/received_events',\n",
       "   'type': 'User',\n",
       "   'site_admin': False},\n",
       "  'html_url': 'https://github.com/demiorca/python_for_datascience_1',\n",
       "  'description': None,\n",
       "  'fork': False,\n",
       "  'url': 'https://api.github.com/repos/demiorca/python_for_datascience_1',\n",
       "  'forks_url': 'https://api.github.com/repos/demiorca/python_for_datascience_1/forks',\n",
       "  'keys_url': 'https://api.github.com/repos/demiorca/python_for_datascience_1/keys{/key_id}',\n",
       "  'collaborators_url': 'https://api.github.com/repos/demiorca/python_for_datascience_1/collaborators{/collaborator}',\n",
       "  'teams_url': 'https://api.github.com/repos/demiorca/python_for_datascience_1/teams',\n",
       "  'hooks_url': 'https://api.github.com/repos/demiorca/python_for_datascience_1/hooks',\n",
       "  'issue_events_url': 'https://api.github.com/repos/demiorca/python_for_datascience_1/issues/events{/number}',\n",
       "  'events_url': 'https://api.github.com/repos/demiorca/python_for_datascience_1/events',\n",
       "  'assignees_url': 'https://api.github.com/repos/demiorca/python_for_datascience_1/assignees{/user}',\n",
       "  'branches_url': 'https://api.github.com/repos/demiorca/python_for_datascience_1/branches{/branch}',\n",
       "  'tags_url': 'https://api.github.com/repos/demiorca/python_for_datascience_1/tags',\n",
       "  'blobs_url': 'https://api.github.com/repos/demiorca/python_for_datascience_1/git/blobs{/sha}',\n",
       "  'git_tags_url': 'https://api.github.com/repos/demiorca/python_for_datascience_1/git/tags{/sha}',\n",
       "  'git_refs_url': 'https://api.github.com/repos/demiorca/python_for_datascience_1/git/refs{/sha}',\n",
       "  'trees_url': 'https://api.github.com/repos/demiorca/python_for_datascience_1/git/trees{/sha}',\n",
       "  'statuses_url': 'https://api.github.com/repos/demiorca/python_for_datascience_1/statuses/{sha}',\n",
       "  'languages_url': 'https://api.github.com/repos/demiorca/python_for_datascience_1/languages',\n",
       "  'stargazers_url': 'https://api.github.com/repos/demiorca/python_for_datascience_1/stargazers',\n",
       "  'contributors_url': 'https://api.github.com/repos/demiorca/python_for_datascience_1/contributors',\n",
       "  'subscribers_url': 'https://api.github.com/repos/demiorca/python_for_datascience_1/subscribers',\n",
       "  'subscription_url': 'https://api.github.com/repos/demiorca/python_for_datascience_1/subscription',\n",
       "  'commits_url': 'https://api.github.com/repos/demiorca/python_for_datascience_1/commits{/sha}',\n",
       "  'git_commits_url': 'https://api.github.com/repos/demiorca/python_for_datascience_1/git/commits{/sha}',\n",
       "  'comments_url': 'https://api.github.com/repos/demiorca/python_for_datascience_1/comments{/number}',\n",
       "  'issue_comment_url': 'https://api.github.com/repos/demiorca/python_for_datascience_1/issues/comments{/number}',\n",
       "  'contents_url': 'https://api.github.com/repos/demiorca/python_for_datascience_1/contents/{+path}',\n",
       "  'compare_url': 'https://api.github.com/repos/demiorca/python_for_datascience_1/compare/{base}...{head}',\n",
       "  'merges_url': 'https://api.github.com/repos/demiorca/python_for_datascience_1/merges',\n",
       "  'archive_url': 'https://api.github.com/repos/demiorca/python_for_datascience_1/{archive_format}{/ref}',\n",
       "  'downloads_url': 'https://api.github.com/repos/demiorca/python_for_datascience_1/downloads',\n",
       "  'issues_url': 'https://api.github.com/repos/demiorca/python_for_datascience_1/issues{/number}',\n",
       "  'pulls_url': 'https://api.github.com/repos/demiorca/python_for_datascience_1/pulls{/number}',\n",
       "  'milestones_url': 'https://api.github.com/repos/demiorca/python_for_datascience_1/milestones{/number}',\n",
       "  'notifications_url': 'https://api.github.com/repos/demiorca/python_for_datascience_1/notifications{?since,all,participating}',\n",
       "  'labels_url': 'https://api.github.com/repos/demiorca/python_for_datascience_1/labels{/name}',\n",
       "  'releases_url': 'https://api.github.com/repos/demiorca/python_for_datascience_1/releases{/id}',\n",
       "  'deployments_url': 'https://api.github.com/repos/demiorca/python_for_datascience_1/deployments',\n",
       "  'created_at': '2020-05-11T00:59:32Z',\n",
       "  'updated_at': '2020-05-11T00:59:36Z',\n",
       "  'pushed_at': '2020-06-11T20:35:02Z',\n",
       "  'git_url': 'git://github.com/demiorca/python_for_datascience_1.git',\n",
       "  'ssh_url': 'git@github.com:demiorca/python_for_datascience_1.git',\n",
       "  'clone_url': 'https://github.com/demiorca/python_for_datascience_1.git',\n",
       "  'svn_url': 'https://github.com/demiorca/python_for_datascience_1',\n",
       "  'homepage': None,\n",
       "  'size': 682,\n",
       "  'stargazers_count': 0,\n",
       "  'watchers_count': 0,\n",
       "  'language': None,\n",
       "  'has_issues': True,\n",
       "  'has_projects': True,\n",
       "  'has_downloads': True,\n",
       "  'has_wiki': True,\n",
       "  'has_pages': False,\n",
       "  'forks_count': 0,\n",
       "  'mirror_url': None,\n",
       "  'archived': False,\n",
       "  'disabled': False,\n",
       "  'open_issues_count': 4,\n",
       "  'license': {'key': 'gpl-3.0',\n",
       "   'name': 'GNU General Public License v3.0',\n",
       "   'spdx_id': 'GPL-3.0',\n",
       "   'url': 'https://api.github.com/licenses/gpl-3.0',\n",
       "   'node_id': 'MDc6TGljZW5zZTk='},\n",
       "  'forks': 0,\n",
       "  'open_issues': 4,\n",
       "  'watchers': 0,\n",
       "  'default_branch': 'master'}]"
      ]
     },
     "execution_count": 4,
     "metadata": {},
     "output_type": "execute_result"
    }
   ],
   "source": [
    "data_1 = response_1.json()\n",
    "data_1"
   ]
  },
  {
   "cell_type": "code",
   "execution_count": 5,
   "metadata": {},
   "outputs": [
    {
     "name": "stdout",
     "output_type": "stream",
     "text": [
      "https://github.com/demiorca/python_for_datascience_1\n"
     ]
    }
   ],
   "source": [
    "for repo in data_1:\n",
    "    if repo['private'] is False:\n",
    "        print(repo['html_url'])"
   ]
  },
  {
   "cell_type": "code",
   "execution_count": 6,
   "metadata": {},
   "outputs": [],
   "source": [
    "with open('repos.json', 'w') as f:\n",
    "    json.dump(data_1, f)"
   ]
  },
  {
   "cell_type": "markdown",
   "metadata": {},
   "source": [
    "#### Задание 2. Изучить список открытых API (https://www.programmableweb.com/category/all/apis). Найти среди них любое, требующее авторизацию (любого типа). Выполнить запросы к нему, пройдя авторизацию. Ответ сервера записать в файл."
   ]
  },
  {
   "cell_type": "code",
   "execution_count": 7,
   "metadata": {},
   "outputs": [],
   "source": [
    "main_link_2 = 'https://api.vk.com/method/groups.get'"
   ]
  },
  {
   "cell_type": "code",
   "execution_count": 8,
   "metadata": {},
   "outputs": [],
   "source": [
    "header = {'User-Agent':'Mozilla/5.0 (Windows NT 10.0; Win64; x64) AppleWebKit/537.36 (KHTML, like Gecko) Chrome/83.0.4103.109 Safari/537.36',\n",
    "          'Accept':'*/*'}"
   ]
  },
  {
   "cell_type": "code",
   "execution_count": 9,
   "metadata": {},
   "outputs": [],
   "source": [
    "v = 5.61\n",
    "# user_id = 12493462 (не нужно, так как по токену происходит автоматическое определение)\n",
    "extended = 1\n",
    "access_token = 'token'"
   ]
  },
  {
   "cell_type": "code",
   "execution_count": 10,
   "metadata": {},
   "outputs": [],
   "source": [
    "params = {'v':v,\n",
    "          'extended':extended,\n",
    "          'access_token':access_token}"
   ]
  },
  {
   "cell_type": "code",
   "execution_count": 11,
   "metadata": {},
   "outputs": [],
   "source": [
    "response_2 = requests.get(main_link_2, headers=header, params=params)"
   ]
  },
  {
   "cell_type": "code",
   "execution_count": 12,
   "metadata": {},
   "outputs": [
    {
     "data": {
      "text/plain": [
       "{'response': {'count': 16,\n",
       "  'items': [{'id': 155960243,\n",
       "    'name': 'Arsenal FC | The North Bank',\n",
       "    'screen_name': 'thenorthbank',\n",
       "    'is_closed': 0,\n",
       "    'type': 'page',\n",
       "    'photo_50': 'https://sun9-9.userapi.com/c854224/v854224182/2113dd/nbEJ9_hMGWA.jpg?ava=1',\n",
       "    'photo_100': 'https://sun9-23.userapi.com/c854224/v854224182/2113dc/aFdGHz-CGBs.jpg?ava=1',\n",
       "    'photo_200': 'https://sun9-68.userapi.com/c854224/v854224182/2113db/uvWopUORmds.jpg?ava=1'},\n",
       "   {'id': 179985743,\n",
       "    'name': 'Okko Спорт',\n",
       "    'screen_name': 'okkosport',\n",
       "    'is_closed': 0,\n",
       "    'type': 'page',\n",
       "    'photo_50': 'https://sun9-39.userapi.com/lQzycpZsponeXtkrDvy6eCFzIcJgCb9ieQo8QQ/tU2dWuW_R0E.jpg?ava=1',\n",
       "    'photo_100': 'https://sun9-26.userapi.com/JS18qnVAMqeXB_-qqQ67hvcYmETs2JEOXswH3w/2eI47ok_Fq8.jpg?ava=1',\n",
       "    'photo_200': 'https://sun9-58.userapi.com/xvmHQ55FqztCBstk0jTfSraQWdGfwfmmznW35Q/hAxR-REP7JI.jpg?ava=1'},\n",
       "   {'id': 29823745,\n",
       "    'name': 'ВГИК',\n",
       "    'screen_name': 'komment',\n",
       "    'is_closed': 0,\n",
       "    'type': 'page',\n",
       "    'photo_50': 'https://sun9-11.userapi.com/c855720/v855720987/245ff2/jaExlZrXd1w.jpg?ava=1',\n",
       "    'photo_100': 'https://sun9-3.userapi.com/c855720/v855720987/245ff1/jbbh5290xkk.jpg?ava=1',\n",
       "    'photo_200': 'https://sun9-6.userapi.com/c855720/v855720987/245ff0/1SXLZkt69PQ.jpg?ava=1'},\n",
       "   {'id': 58656979,\n",
       "    'name': 'Первый Вегетарианский',\n",
       "    'screen_name': 'just_veg',\n",
       "    'is_closed': 0,\n",
       "    'type': 'page',\n",
       "    'photo_50': 'https://sun9-57.userapi.com/c616418/v616418081/76/utacq4b8I2E.jpg?ava=1',\n",
       "    'photo_100': 'https://sun9-35.userapi.com/c616418/v616418081/75/cl9C_F_5SFQ.jpg?ava=1',\n",
       "    'photo_200': 'https://sun9-28.userapi.com/c616418/v616418081/74/JCGcaMfnuWY.jpg?ava=1'},\n",
       "   {'id': 4100014,\n",
       "    'name': 'Новые Альбомы',\n",
       "    'screen_name': 'newalbums',\n",
       "    'is_closed': 0,\n",
       "    'type': 'page',\n",
       "    'photo_50': 'https://sun9-66.userapi.com/r-XH-3wRq30mZ1I7W6ltzHHbOdcN_H11Pt8_UQ/R6877mVekPg.jpg?ava=1',\n",
       "    'photo_100': 'https://sun9-10.userapi.com/v12h2Jlbg4cTFdGjKZCv-P-PP-u6PmgCegwNwA/TiCj7Phbd8A.jpg?ava=1',\n",
       "    'photo_200': 'https://sun9-11.userapi.com/4BtMMeFLYm_7oOMr5QiOXCajN4_6rHexf9JWhg/CjQCrms7oWw.jpg?ava=1'},\n",
       "   {'id': 39428534,\n",
       "    'name': 'Inside the TARDIS',\n",
       "    'screen_name': 'dw_inside_the_tardis',\n",
       "    'is_closed': 0,\n",
       "    'type': 'page',\n",
       "    'photo_50': 'https://sun9-52.userapi.com/iMXXjlkHoSiBAQ25VgsRY6Oqa15IZalbaR_8AA/vZmWXmCdE50.jpg?ava=1',\n",
       "    'photo_100': 'https://sun9-14.userapi.com/SUYnRZrYFwTEI55OYlUpXZODZumcvXsep5oNhQ/NWo0EKMFQxg.jpg?ava=1',\n",
       "    'photo_200': 'https://sun9-24.userapi.com/GtoO3R4CDRKR-FLLqDIylQS9kDSVO0jte8qm2Q/SDd8sOaaxYg.jpg?ava=1'},\n",
       "   {'id': 115828735,\n",
       "    'name': 'ФК НАПОЛИ',\n",
       "    'screen_name': 'napoli',\n",
       "    'is_closed': 0,\n",
       "    'type': 'page',\n",
       "    'photo_50': 'https://sun9-56.userapi.com/c834200/v834200702/aa6bc/PuHzDTjSXnY.jpg?ava=1',\n",
       "    'photo_100': 'https://sun9-15.userapi.com/c834200/v834200702/aa6bb/AZIk6idFSAY.jpg?ava=1',\n",
       "    'photo_200': 'https://sun9-16.userapi.com/c834200/v834200702/aa6ba/_kWkYEYVQ9U.jpg?ava=1'},\n",
       "   {'id': 109560985,\n",
       "    'name': 'Реал Сосьедад| Real Sociedad',\n",
       "    'screen_name': 'realsociedaddeftbol',\n",
       "    'is_closed': 0,\n",
       "    'type': 'page',\n",
       "    'photo_50': 'https://sun9-3.userapi.com/c604824/v604824989/14739/fxFg8yzFC0s.jpg?ava=1',\n",
       "    'photo_100': 'https://sun9-11.userapi.com/c604824/v604824989/14738/hS6j45OTrus.jpg?ava=1',\n",
       "    'photo_200': 'https://sun9-71.userapi.com/c604824/v604824989/14736/3LI9U8OrtMo.jpg?ava=1'},\n",
       "   {'id': 120555250,\n",
       "    'name': 'Bowl Life',\n",
       "    'screen_name': 'bowl_life',\n",
       "    'is_closed': 0,\n",
       "    'type': 'page',\n",
       "    'photo_50': 'https://sun9-53.userapi.com/c636529/v636529614/375db/C1LObZ-24zo.jpg?ava=1',\n",
       "    'photo_100': 'https://sun9-43.userapi.com/c636529/v636529614/375da/BCSJNNi1cO0.jpg?ava=1',\n",
       "    'photo_200': 'https://sun9-25.userapi.com/c636529/v636529614/375d9/vQwFS45zUqo.jpg?ava=1'},\n",
       "   {'id': 15365973,\n",
       "    'name': 'GeekBrains',\n",
       "    'screen_name': 'geekbrainsru',\n",
       "    'is_closed': 0,\n",
       "    'type': 'page',\n",
       "    'photo_50': 'https://sun9-71.userapi.com/c857732/v857732252/1b119a/pljhSbLrFZk.jpg?ava=1',\n",
       "    'photo_100': 'https://sun9-39.userapi.com/c857732/v857732252/1b1199/mAe3kZhVfPM.jpg?ava=1',\n",
       "    'photo_200': 'https://sun9-60.userapi.com/c857732/v857732252/1b1198/OvC5_UIv1YU.jpg?ava=1'},\n",
       "   {'id': 148188538,\n",
       "    'name': 'Λ P H Ξ L I Ø N',\n",
       "    'screen_name': 'apheelion',\n",
       "    'is_closed': 0,\n",
       "    'type': 'page',\n",
       "    'photo_50': 'https://sun9-23.userapi.com/c639827/v639827954/3ac12/G2EvCMpf4vg.jpg?ava=1',\n",
       "    'photo_100': 'https://sun9-24.userapi.com/c639827/v639827954/3ac11/wrqnlHtQ2r4.jpg?ava=1',\n",
       "    'photo_200': 'https://sun9-21.userapi.com/c639827/v639827954/3ac10/4ymOsqZeuSM.jpg?ava=1'},\n",
       "   {'id': 91933860,\n",
       "    'name': 'N + 1',\n",
       "    'screen_name': 'nplusone',\n",
       "    'is_closed': 0,\n",
       "    'type': 'page',\n",
       "    'photo_50': 'https://sun9-65.userapi.com/c840133/v840133420/ad0ff/YqqHM7jrPpQ.jpg?ava=1',\n",
       "    'photo_100': 'https://sun9-33.userapi.com/c840133/v840133420/ad0fe/Pl7wIk5s54c.jpg?ava=1',\n",
       "    'photo_200': 'https://sun9-68.userapi.com/c840133/v840133420/ad0fd/FD7eGqemg6Q.jpg?ava=1'},\n",
       "   {'id': 55155418,\n",
       "    'name': 'VERT DIDER',\n",
       "    'screen_name': 'studio_vd',\n",
       "    'is_closed': 0,\n",
       "    'type': 'page',\n",
       "    'photo_50': 'https://sun9-59.userapi.com/c845218/v845218281/185cd2/pdTomwm44Uo.jpg?ava=1',\n",
       "    'photo_100': 'https://sun9-5.userapi.com/c845218/v845218281/185cd3/hH796srwUnQ.jpg?ava=1',\n",
       "    'photo_200': 'https://sun9-59.userapi.com/c845218/v845218281/185cd2/pdTomwm44Uo.jpg?ava=1'},\n",
       "   {'id': 54566161,\n",
       "    'name': 'Бродяги Дхармы',\n",
       "    'screen_name': 'dharma_bums',\n",
       "    'is_closed': 0,\n",
       "    'type': 'page',\n",
       "    'photo_50': 'https://sun9-59.userapi.com/c606722/v606722149/8dd/hKRROFISWjs.jpg?ava=1',\n",
       "    'photo_100': 'https://sun9-17.userapi.com/c606722/v606722149/8dc/G3ZreTlDqNE.jpg?ava=1',\n",
       "    'photo_200': 'https://sun9-6.userapi.com/c606722/v606722149/8db/2bc2OtALDhE.jpg?ava=1'},\n",
       "   {'id': 64897872,\n",
       "    'name': 'Международный Комитет Красного Креста',\n",
       "    'screen_name': 'icrc_rus',\n",
       "    'is_closed': 0,\n",
       "    'type': 'page',\n",
       "    'photo_50': 'https://sun9-44.userapi.com/c841238/v841238418/725a/2L7FzXeObjI.jpg?ava=1',\n",
       "    'photo_100': 'https://sun9-49.userapi.com/c841238/v841238418/7259/64wT3JcwPnE.jpg?ava=1',\n",
       "    'photo_200': 'https://sun9-50.userapi.com/c841238/v841238418/7258/5AOJUE5Y-F0.jpg?ava=1'},\n",
       "   {'id': 4059,\n",
       "    'name': 'Красный Крест | Санкт-Петербург',\n",
       "    'screen_name': 'redcrossspb',\n",
       "    'is_closed': 0,\n",
       "    'type': 'page',\n",
       "    'photo_50': 'https://sun9-2.userapi.com/c840439/v840439979/5f024/GRTpd7Ayibo.jpg?ava=1',\n",
       "    'photo_100': 'https://sun9-72.userapi.com/c840439/v840439979/5f023/RHKxRWTD7hA.jpg?ava=1',\n",
       "    'photo_200': 'https://sun9-70.userapi.com/c840439/v840439979/5f022/m_6Le3ul1Zk.jpg?ava=1'}]}}"
      ]
     },
     "execution_count": 12,
     "metadata": {},
     "output_type": "execute_result"
    }
   ],
   "source": [
    "data_2 = response_2.json()\n",
    "data_2"
   ]
  },
  {
   "cell_type": "code",
   "execution_count": 13,
   "metadata": {},
   "outputs": [],
   "source": [
    "with open('groups.json', 'w') as f:\n",
    "    json.dump(data_2, f)"
   ]
  },
  {
   "cell_type": "code",
   "execution_count": null,
   "metadata": {},
   "outputs": [],
   "source": []
  }
 ],
 "metadata": {
  "kernelspec": {
   "display_name": "Python 3",
   "language": "python",
   "name": "python3"
  },
  "language_info": {
   "codemirror_mode": {
    "name": "ipython",
    "version": 3
   },
   "file_extension": ".py",
   "mimetype": "text/x-python",
   "name": "python",
   "nbconvert_exporter": "python",
   "pygments_lexer": "ipython3",
   "version": "3.7.6"
  }
 },
 "nbformat": 4,
 "nbformat_minor": 4
}
