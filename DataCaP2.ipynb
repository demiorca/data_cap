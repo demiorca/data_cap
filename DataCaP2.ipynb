{
 "cells": [
  {
   "cell_type": "markdown",
   "metadata": {},
   "source": [
    "### Парсинг HTML. BeautifulSoup, MongoDB"
   ]
  },
  {
   "cell_type": "markdown",
   "metadata": {},
   "source": [
    "#### Задание 1"
   ]
  },
  {
   "cell_type": "code",
   "execution_count": 1,
   "metadata": {},
   "outputs": [],
   "source": [
    "from bs4 import BeautifulSoup as bs\n",
    "import requests as rq\n",
    "from pprint import pprint\n",
    "import pandas as pd"
   ]
  },
  {
   "cell_type": "code",
   "execution_count": 2,
   "metadata": {},
   "outputs": [],
   "source": [
    "main_link = 'https://spb.hh.ru'"
   ]
  },
  {
   "cell_type": "code",
   "execution_count": 3,
   "metadata": {},
   "outputs": [],
   "source": [
    "header = {'User-Agent':'Mozilla/5.0 (Windows NT 10.0; Win64; x64) AppleWebKit/537.36 (KHTML, like Gecko) Chrome/83.0.4103.109 Safari/537.36',\n",
    "          'Accept':'*/*'}"
   ]
  },
  {
   "cell_type": "code",
   "execution_count": 4,
   "metadata": {},
   "outputs": [],
   "source": [
    "params = {'clusters':True,\n",
    "          'enable_snippets':True,\n",
    "          'text':'Data scientist',\n",
    "          'L_save_area':True,\n",
    "          'area':1,\n",
    "          'from':'cluster_area',\n",
    "          'showClusters':True}"
   ]
  },
  {
   "cell_type": "code",
   "execution_count": 5,
   "metadata": {},
   "outputs": [],
   "source": [
    "response = rq.get(main_link + '/search/vacancy', headers=header, params=params).text\n",
    "soup = bs(response, 'lxml')\n",
    "vacancy_block = soup.find('div',{'class':'vacancy-serp'})\n",
    "vacancy_list = vacancy_block.find_all('div',{'class':'vacancy-serp-item'})"
   ]
  },
  {
   "cell_type": "code",
   "execution_count": 6,
   "metadata": {},
   "outputs": [
    {
     "name": "stdout",
     "output_type": "stream",
     "text": [
      "['https://spb.hh.ru/search/vacancy?L_is_autosearch=false&area=1&clusters=true&enable_snippets=true&text=Data+scientist&page=1',\n",
      " 'https://spb.hh.ru/search/vacancy?L_is_autosearch=false&area=1&clusters=true&enable_snippets=true&text=Data+scientist&page=2',\n",
      " 'https://spb.hh.ru/search/vacancy?L_is_autosearch=false&area=1&clusters=true&enable_snippets=true&text=Data+scientist&page=3']\n"
     ]
    }
   ],
   "source": [
    "pages = []\n",
    "while True:\n",
    "    if soup.find('a',{'class':'bloko-button HH-Pager-Controls-Next HH-Pager-Control'}):\n",
    "        next_page = main_link + soup.find('a',{'class':'bloko-button HH-Pager-Controls-Next HH-Pager-Control'})['href']\n",
    "    else:\n",
    "        break\n",
    "    pages.append(next_page)\n",
    "    response = rq.get(next_page, headers=header).text\n",
    "    soup = bs(response, 'lxml')\n",
    "    vacancy_block_ = soup.find('div',{'class':'vacancy-serp'})\n",
    "    vacancy_list_ = vacancy_block_.find_all('div',{'class':'vacancy-serp-item'})\n",
    "pprint(pages)"
   ]
  },
  {
   "cell_type": "code",
   "execution_count": 7,
   "metadata": {},
   "outputs": [],
   "source": [
    "jobs = []"
   ]
  },
  {
   "cell_type": "code",
   "execution_count": 8,
   "metadata": {},
   "outputs": [],
   "source": [
    "for job in vacancy_list + vacancy_list_:\n",
    "    job_data = {}\n",
    "    job_name = job.find('div',{'class':'vacancy-serp-item__info'}).getText()\n",
    "    job_company = job.find('a',{'class':'bloko-link bloko-link_secondary'}).getText()\n",
    "    job_city = job.find('span',{'class':'vacancy-serp-item__meta-info'}).getText().split()[0].replace(',', '')\n",
    "    job_link = job.find('a',{'class':'bloko-link HH-LinkModifier'})['href']\n",
    "    job_data['name'] = job_name\n",
    "    job_data['company'] = job_company\n",
    "    job_data['city'] = job_city\n",
    "    job_data['link'] = job_link\n",
    "    jobs.append(job_data)"
   ]
  },
  {
   "cell_type": "code",
   "execution_count": 9,
   "metadata": {},
   "outputs": [
    {
     "data": {
      "text/html": [
       "<div>\n",
       "<style scoped>\n",
       "    .dataframe tbody tr th:only-of-type {\n",
       "        vertical-align: middle;\n",
       "    }\n",
       "\n",
       "    .dataframe tbody tr th {\n",
       "        vertical-align: top;\n",
       "    }\n",
       "\n",
       "    .dataframe thead th {\n",
       "        text-align: right;\n",
       "    }\n",
       "</style>\n",
       "<table border=\"1\" class=\"dataframe\">\n",
       "  <thead>\n",
       "    <tr style=\"text-align: right;\">\n",
       "      <th></th>\n",
       "      <th>name</th>\n",
       "      <th>company</th>\n",
       "      <th>city</th>\n",
       "      <th>link</th>\n",
       "    </tr>\n",
       "  </thead>\n",
       "  <tbody>\n",
       "    <tr>\n",
       "      <th>0</th>\n",
       "      <td>Data Scientist</td>\n",
       "      <td>ООО КРИПТОН</td>\n",
       "      <td>Москва</td>\n",
       "      <td>https://spb.hh.ru/vacancy/37635578?query=Data%...</td>\n",
       "    </tr>\n",
       "    <tr>\n",
       "      <th>1</th>\n",
       "      <td>Python Data Scientist</td>\n",
       "      <td>Web Interactive World</td>\n",
       "      <td>Москва</td>\n",
       "      <td>https://spb.hh.ru/vacancy/37521387?query=Data%...</td>\n",
       "    </tr>\n",
       "    <tr>\n",
       "      <th>2</th>\n",
       "      <td>Senior Data Scientist</td>\n",
       "      <td>Gradient</td>\n",
       "      <td>Москва</td>\n",
       "      <td>https://spb.hh.ru/vacancy/37294434?query=Data%...</td>\n",
       "    </tr>\n",
       "    <tr>\n",
       "      <th>3</th>\n",
       "      <td>Data Scientist</td>\n",
       "      <td>ООО Варити</td>\n",
       "      <td>Москва</td>\n",
       "      <td>https://spb.hh.ru/vacancy/37569615?query=Data%...</td>\n",
       "    </tr>\n",
       "    <tr>\n",
       "      <th>4</th>\n",
       "      <td>Data Scientist (Computer Vision)</td>\n",
       "      <td>СофтТелематика</td>\n",
       "      <td>Москва</td>\n",
       "      <td>https://spb.hh.ru/vacancy/37565065?query=Data%...</td>\n",
       "    </tr>\n",
       "    <tr>\n",
       "      <th>...</th>\n",
       "      <td>...</td>\n",
       "      <td>...</td>\n",
       "      <td>...</td>\n",
       "      <td>...</td>\n",
       "    </tr>\n",
       "    <tr>\n",
       "      <th>76</th>\n",
       "      <td>Pricing development manager</td>\n",
       "      <td>British American Tobacco Russia</td>\n",
       "      <td>Москва</td>\n",
       "      <td>https://spb.hh.ru/vacancy/37331973?query=Data%...</td>\n",
       "    </tr>\n",
       "    <tr>\n",
       "      <th>77</th>\n",
       "      <td>Ведущий аналитик данных/Data scientist</td>\n",
       "      <td>Сбербанк для экспертов</td>\n",
       "      <td>Москва</td>\n",
       "      <td>https://spb.hh.ru/vacancy/37302886?query=Data%...</td>\n",
       "    </tr>\n",
       "    <tr>\n",
       "      <th>78</th>\n",
       "      <td>Аналитик данных / Data scientist</td>\n",
       "      <td>Программный Продукт, ИТ-компания</td>\n",
       "      <td>Москва</td>\n",
       "      <td>https://spb.hh.ru/vacancy/36953584?query=Data%...</td>\n",
       "    </tr>\n",
       "    <tr>\n",
       "      <th>79</th>\n",
       "      <td>Руководитель направления по аналитике данных</td>\n",
       "      <td>Сбербанк для экспертов</td>\n",
       "      <td>Москва</td>\n",
       "      <td>https://spb.hh.ru/vacancy/37303929?query=Data%...</td>\n",
       "    </tr>\n",
       "    <tr>\n",
       "      <th>80</th>\n",
       "      <td>Аналитик данных (Data scientist)</td>\n",
       "      <td>ООО Предиктивные Технологии</td>\n",
       "      <td>Москва</td>\n",
       "      <td>https://spb.hh.ru/vacancy/37352080?query=Data%...</td>\n",
       "    </tr>\n",
       "  </tbody>\n",
       "</table>\n",
       "<p>81 rows × 4 columns</p>\n",
       "</div>"
      ],
      "text/plain": [
       "                                            name  \\\n",
       "0                                 Data Scientist   \n",
       "1                          Python Data Scientist   \n",
       "2                          Senior Data Scientist   \n",
       "3                                 Data Scientist   \n",
       "4               Data Scientist (Computer Vision)   \n",
       "..                                           ...   \n",
       "76                   Pricing development manager   \n",
       "77        Ведущий аналитик данных/Data scientist   \n",
       "78              Аналитик данных / Data scientist   \n",
       "79  Руководитель направления по аналитике данных   \n",
       "80              Аналитик данных (Data scientist)   \n",
       "\n",
       "                              company    city  \\\n",
       "0                         ООО КРИПТОН  Москва   \n",
       "1               Web Interactive World  Москва   \n",
       "2                            Gradient  Москва   \n",
       "3                          ООО Варити  Москва   \n",
       "4                      СофтТелематика  Москва   \n",
       "..                                ...     ...   \n",
       "76    British American Tobacco Russia  Москва   \n",
       "77             Сбербанк для экспертов  Москва   \n",
       "78   Программный Продукт, ИТ-компания  Москва   \n",
       "79             Сбербанк для экспертов  Москва   \n",
       "80        ООО Предиктивные Технологии  Москва   \n",
       "\n",
       "                                                 link  \n",
       "0   https://spb.hh.ru/vacancy/37635578?query=Data%...  \n",
       "1   https://spb.hh.ru/vacancy/37521387?query=Data%...  \n",
       "2   https://spb.hh.ru/vacancy/37294434?query=Data%...  \n",
       "3   https://spb.hh.ru/vacancy/37569615?query=Data%...  \n",
       "4   https://spb.hh.ru/vacancy/37565065?query=Data%...  \n",
       "..                                                ...  \n",
       "76  https://spb.hh.ru/vacancy/37331973?query=Data%...  \n",
       "77  https://spb.hh.ru/vacancy/37302886?query=Data%...  \n",
       "78  https://spb.hh.ru/vacancy/36953584?query=Data%...  \n",
       "79  https://spb.hh.ru/vacancy/37303929?query=Data%...  \n",
       "80  https://spb.hh.ru/vacancy/37352080?query=Data%...  \n",
       "\n",
       "[81 rows x 4 columns]"
      ]
     },
     "execution_count": 9,
     "metadata": {},
     "output_type": "execute_result"
    }
   ],
   "source": [
    "pd.DataFrame(jobs)"
   ]
  },
  {
   "cell_type": "code",
   "execution_count": null,
   "metadata": {},
   "outputs": [],
   "source": []
  }
 ],
 "metadata": {
  "kernelspec": {
   "display_name": "Python 3",
   "language": "python",
   "name": "python3"
  },
  "language_info": {
   "codemirror_mode": {
    "name": "ipython",
    "version": 3
   },
   "file_extension": ".py",
   "mimetype": "text/x-python",
   "name": "python",
   "nbconvert_exporter": "python",
   "pygments_lexer": "ipython3",
   "version": "3.7.6"
  }
 },
 "nbformat": 4,
 "nbformat_minor": 4
}
